{
 "cells": [
  {
   "cell_type": "markdown",
   "metadata": {},
   "source": [
    "# Циклы"
   ]
  },
  {
   "cell_type": "markdown",
   "metadata": {},
   "source": [
    "1) С помощью цикла for сравнить две произвольные строки и вывести строку, состоящую из общих символов исходных строк."
   ]
  },
  {
   "cell_type": "code",
   "execution_count": 1,
   "metadata": {},
   "outputs": [
    {
     "name": "stdout",
     "output_type": "stream",
     "text": [
      "dasf\n"
     ]
    }
   ],
   "source": [
    "a = 'dasdasfds'\n",
    "b = 'fffdsfqewqsa`12321'\n",
    "l = list()\n",
    "for i in a:\n",
    "    if i in b and i not in l:\n",
    "        l.append(i)\n",
    "l = ''.join(l)\n",
    "print(l)"
   ]
  },
  {
   "cell_type": "markdown",
   "metadata": {},
   "source": [
    "2) С помощью цикла while ассчитать двойной факториал для произвольного числа. Двойной факториал *n!!* числа n рассчитывается как произведение всех чисел, меньших исходного на числа, кратные двум (вплоть до 1 или 2). Например: 7!! = 7 \\* 5 \\* 3 \\* 1 = 105"
   ]
  },
  {
   "cell_type": "code",
   "execution_count": 2,
   "metadata": {},
   "outputs": [
    {
     "name": "stdout",
     "output_type": "stream",
     "text": [
      "Введите n: 8\n",
      "384\n"
     ]
    }
   ],
   "source": [
    "double_fact = 1\n",
    "n = int(input('Введите n: '))\n",
    "while(n>0):\n",
    "    double_fact *= n\n",
    "    n = n - 2\n",
    "print(double_fact)"
   ]
  },
  {
   "cell_type": "markdown",
   "metadata": {},
   "source": [
    "3) Решить предыдущую задачу с помощью цикла for."
   ]
  },
  {
   "cell_type": "code",
   "execution_count": 3,
   "metadata": {},
   "outputs": [
    {
     "name": "stdout",
     "output_type": "stream",
     "text": [
      "Введите n: 8\n",
      "384\n"
     ]
    }
   ],
   "source": [
    "double_fact = 1\n",
    "n = int(input('Введите n: '))\n",
    "for i in range(n, 1, -2):\n",
    "    double_fact *= i\n",
    "print(double_fact)"
   ]
  },
  {
   "cell_type": "markdown",
   "metadata": {},
   "source": [
    "4) Вывести все простые числа в произвольном интервале [a, b], используя вложенные for и конструкцию for-else."
   ]
  },
  {
   "cell_type": "code",
   "execution_count": 9,
   "metadata": {},
   "outputs": [
    {
     "name": "stdout",
     "output_type": "stream",
     "text": [
      "[2, 3, 5, 7, 11, 13, 17, 19, 23, 29, 31, 37, 41, 43, 47, 53, 59, 61, 67, 71, 73, 79, 83, 89, 97, 101, 103, 107, 109, 113, 127, 131, 137, 139, 149, 151, 157, 163, 167, 173, 179, 181, 191, 193, 197, 199, 211, 223, 227, 229, 233, 239, 241, 251, 257, 263, 269, 271, 277, 281, 283, 293, 307, 311, 313, 317, 331, 337, 347, 349, 353, 359, 367, 373, 379, 383, 389, 397, 401, 409, 419, 421, 431, 433, 439, 443, 449, 457, 461, 463, 467, 479, 487, 491, 499, 503, 509, 521, 523, 541, 547, 557, 563, 569, 571, 577, 587, 593, 599, 601, 607, 613, 617, 619, 631, 641, 643, 647, 653, 659, 661, 673, 677, 683, 691, 701, 709, 719, 727, 733, 739, 743, 751, 757, 761, 769, 773, 787, 797, 809, 811, 821, 823, 827, 829, 839, 853, 857, 859, 863, 877, 881, 883, 887, 907, 911, 919, 929, 937, 941, 947, 953, 967, 971, 977, 983, 991, 997]\n"
     ]
    }
   ],
   "source": [
    "terval = [0, 997]\n",
    "simple = list()\n",
    "for i in range(terval[0], terval[1]+1):\n",
    "    for j in range(2, i):\n",
    "        if i%j == 0:\n",
    "            break\n",
    "    else:\n",
    "        if i != 0 and i != 1:\n",
    "            simple.append(i)\n",
    "print(simple)"
   ]
  },
  {
   "cell_type": "markdown",
   "metadata": {},
   "source": [
    "5) Реализовать проверку на ввод вводимого пользователем значения: предлагать ввод до тех пор, пока не будет введена непустая строка. Если введено STOP, выводить сообщение \"Program interrupted by user\". Если введенная строка в лексиграфическом порядке стоит перед строчными латинскими символами, выводить предупреждение \"Too early in the dictionary. Try again!\" и предлагать ввод снова. Иначе выводить отформатированную исходную строку с заполнителем \"_\" и шириной 30 символов с выравниванием посередине."
   ]
  },
  {
   "cell_type": "markdown",
   "metadata": {},
   "source": [
    "6) Для произвольной строки вывести те символы, номера которых в строке (не индексы!) делят длину строки без остатка. Для строки \"Hello world!\" должно выводиться \"Hell !\"."
   ]
  },
  {
   "cell_type": "code",
   "execution_count": 13,
   "metadata": {},
   "outputs": [
    {
     "name": "stdout",
     "output_type": "stream",
     "text": [
      "Hell !\n"
     ]
    }
   ],
   "source": [
    "a =\"Hello world!\"\n",
    "l = list()\n",
    "for i in range(len(a)):\n",
    "    c = i+1\n",
    "    if(len(a)%c == 0):\n",
    "        l.append(a[i])\n",
    "s = \"\".join(l)\n",
    "print(s)"
   ]
  },
  {
   "cell_type": "markdown",
   "metadata": {},
   "source": [
    "7) Даны две произвольные строки. Для всех символов первой строки, которые встречаются во второй строке (без учета регистра), вывести строку: \"<номер\\_символа\\_в\\_первой\\_строке> встречается в строке поиска: <второе_слово>\", причем второе слово выводить в нижнем регистре с найденным символом в верхнем регистре. Например, для исходной строки \"Hello world!\" и строки поиска 'HERD' третья строка в выводе будет содержать текст:<br> \"9 символ встречается в строке поиска: heRd\"."
   ]
  },
  {
   "cell_type": "code",
   "execution_count": 15,
   "metadata": {},
   "outputs": [
    {
     "name": "stdout",
     "output_type": "stream",
     "text": [
      "1 символ встречается в строке поиска: Herd\n",
      "2 символ встречается в строке поиска: hErd\n",
      "9 символ встречается в строке поиска: heRd\n",
      "11 символ встречается в строке поиска: herD\n"
     ]
    }
   ],
   "source": [
    "a =\"Hello world!\"\n",
    "b =\"HERD\"\n",
    "a1 = a.lower()\n",
    "b1 = b.lower()\n",
    "l = [\"\"]\n",
    "for i in range(len(a1)):\n",
    "    if a1[i] in b1:\n",
    "        for j in range(len(b1)):\n",
    "            if a1[i] == b1[j]:\n",
    "                l[0] = b1[:j] + b1[j].upper() + b1[j+1:]\n",
    "        print(i+1, \"символ встречается в строке поиска:\", l[0])"
   ]
  }
 ],
 "metadata": {
  "kernelspec": {
   "display_name": "Python 3",
   "language": "python",
   "name": "python3"
  },
  "language_info": {
   "codemirror_mode": {
    "name": "ipython",
    "version": 3
   },
   "file_extension": ".py",
   "mimetype": "text/x-python",
   "name": "python",
   "nbconvert_exporter": "python",
   "pygments_lexer": "ipython3",
   "version": "3.8.5"
  }
 },
 "nbformat": 4,
 "nbformat_minor": 2
}
